{
 "cells": [
  {
   "cell_type": "markdown",
   "metadata": {},
   "source": [
    "# ALRIGHTY LETS SEE WHAT HAPPENS"
   ]
  },
  {
   "cell_type": "code",
   "execution_count": null,
   "metadata": {},
   "outputs": [
    {
     "name": "stdout",
     "output_type": "stream",
     "text": [
      "ProcessedCourse(course_title='PHYS 2C', course_code=CourseCode(subject='PHYS', number='2C'), units=4.0, for_major=True, term=3, raw=RawCourse(course_title='PHYS 2C & 2CL', units=6.0, type='DEPARTMENT', overlaps_ge=True, year=1, quarter=0))\n"
     ]
    }
   ],
   "source": [
    "%run parse.py"
   ]
  },
  {
   "cell_type": "code",
   "execution_count": 10,
   "metadata": {},
   "outputs": [],
   "source": [
    "%%capture cap --no-stderr\n",
    "%run output 2021 EC26\n",
    "\n",
    "#with open(\"output1.csv\", 'w') as f:\n",
    "#    f.write(cap.stdout)"
   ]
  },
  {
   "cell_type": "code",
   "execution_count": 2,
   "metadata": {},
   "outputs": [
    {
     "name": "stderr",
     "output_type": "stream",
     "text": [
      "Traceback (most recent call last):\n",
      "  File \"output.py\", line 22, in <module>\n",
      "    from output_json import Curriculum, CurriculumHash, Item, Term, Requisite\n",
      "  File \"c:\\Users\\artut\\OneDrive\\Documents\\Arturo's Stuff - Not Auto-Gen App content\\School & UCSD\\UCSD\\Work\\MyCleanCopyOfSeansForkOfECA\\ExploratoryCurricularAnalytics\\output_json.py\", line 1, in <module>\n",
      "    from typing import List, Literal, Optional, TypedDict\n",
      "ImportError: cannot import name 'Literal' from 'typing' (C:\\Program Files\\WindowsApps\\PythonSoftwareFoundation.Python.3.7_3.7.2544.0_x64__qbz5n2kfra8p0\\lib\\typing.py)\n"
     ]
    }
   ],
   "source": [
    "!python3 output.py 2021 EC26 > output1.csv"
   ]
  },
  {
   "cell_type": "code",
   "execution_count": null,
   "metadata": {},
   "outputs": [],
   "source": []
  }
 ],
 "metadata": {
  "kernelspec": {
   "display_name": "Python 3.10.4 64-bit",
   "language": "python",
   "name": "python3"
  },
  "language_info": {
   "codemirror_mode": {
    "name": "ipython",
    "version": 3
   },
   "file_extension": ".py",
   "mimetype": "text/x-python",
   "name": "python",
   "nbconvert_exporter": "python",
   "pygments_lexer": "ipython3",
   "version": "3.10.4"
  },
  "orig_nbformat": 4,
  "vscode": {
   "interpreter": {
    "hash": "369f2c481f4da34e4445cda3fffd2e751bd1c4d706f27375911949ba6bb62e1c"
   }
  }
 },
 "nbformat": 4,
 "nbformat_minor": 2
}
